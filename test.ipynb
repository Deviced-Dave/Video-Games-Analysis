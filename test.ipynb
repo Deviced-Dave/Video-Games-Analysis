{
 "cells": [
  {
   "cell_type": "code",
   "execution_count": 3,
   "metadata": {},
   "outputs": [
    {
     "name": "stdout",
     "output_type": "stream",
     "text": [
      "Original DataFrame (df1):\n",
      "  key  value1\n",
      "0   A     1.0\n",
      "1   B     NaN\n",
      "2   C     3.0\n",
      "3   D     NaN\n",
      "\n",
      "DataFrame to fill missing values (df2):\n",
      "  key  value2\n",
      "0   B     5.0\n",
      "1   C     NaN\n",
      "2   D     7.0\n",
      "3   E     8.0\n",
      "\n",
      "DataFrame after filling missing values with df2:\n",
      "  key  value1\n",
      "0   A     1.0\n",
      "1   B     5.0\n",
      "2   C     3.0\n",
      "3   D     7.0\n"
     ]
    }
   ],
   "source": [
    "import pandas as pd\n",
    "\n",
    "# Creating sample dataframes\n",
    "df1 = pd.DataFrame({'key': ['A', 'B', 'C', 'D'],\n",
    "                    'value1': [1, None, 3, None]})\n",
    "df2 = pd.DataFrame({'key': ['B', 'C', 'D', 'E'],\n",
    "                    'value2': [5, None, 7, 8]})\n",
    "\n",
    "# Perform a left join to fill missing values in df1 with values from df2\n",
    "merged_df = pd.merge(df1, df2, on='key', how='left')\n",
    "\n",
    "# Fill missing values in value1 with values from value2\n",
    "merged_df['value1'] = merged_df['value1'].fillna(merged_df['value2'])\n",
    "\n",
    "# Drop the extra value2 column\n",
    "merged_df.drop(columns=['value2'], inplace=True)\n",
    "\n",
    "print(\"Original DataFrame (df1):\")\n",
    "print(df1)\n",
    "print(\"\\nDataFrame to fill missing values (df2):\")\n",
    "print(df2)\n",
    "print(\"\\nDataFrame after filling missing values with df2:\")\n",
    "print(merged_df)"
   ]
  },
  {
   "cell_type": "code",
   "execution_count": null,
   "metadata": {},
   "outputs": [],
   "source": []
  }
 ],
 "metadata": {
  "kernelspec": {
   "display_name": "games",
   "language": "python",
   "name": "python3"
  },
  "language_info": {
   "codemirror_mode": {
    "name": "ipython",
    "version": 3
   },
   "file_extension": ".py",
   "mimetype": "text/x-python",
   "name": "python",
   "nbconvert_exporter": "python",
   "pygments_lexer": "ipython3",
   "version": "3.12.0"
  }
 },
 "nbformat": 4,
 "nbformat_minor": 2
}
